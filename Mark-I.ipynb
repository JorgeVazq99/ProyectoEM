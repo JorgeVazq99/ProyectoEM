{
 "cells": [
  {
   "cell_type": "code",
   "execution_count": 1,
   "id": "e76cb5ab-c48e-47b4-9836-dac88c10ec5a",
   "metadata": {},
   "outputs": [],
   "source": [
    "import numpy as np\n",
    "import matplotlib.pyplot as plt\n",
    "import macti.visual as mvis"
   ]
  },
  {
   "cell_type": "code",
   "execution_count": null,
   "id": "4c889e77-b71b-4fce-b5ce-18b446dc8253",
   "metadata": {},
   "outputs": [],
   "source": []
  }
 ],
 "metadata": {
  "kernelspec": {
   "display_name": "Python 3 (ipykernel)",
   "language": "python",
   "name": "python3"
  },
  "language_info": {
   "codemirror_mode": {
    "name": "ipython",
    "version": 3
   },
   "file_extension": ".py",
   "mimetype": "text/x-python",
   "name": "python",
   "nbconvert_exporter": "python",
   "pygments_lexer": "ipython3",
   "version": "3.11.5"
  }
 },
 "nbformat": 4,
 "nbformat_minor": 5
}
